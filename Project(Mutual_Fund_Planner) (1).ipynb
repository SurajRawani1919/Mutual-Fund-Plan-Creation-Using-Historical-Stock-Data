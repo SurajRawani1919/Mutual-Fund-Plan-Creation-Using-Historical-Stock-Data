{
 "cells": [
  {
   "cell_type": "markdown",
   "id": "9108b271",
   "metadata": {},
   "source": [
    "# OT Mutual Funds :\n",
    "    \n",
    "    The dataset consists of daily closing stock prices of 50 major Indian companies from sectors like banking, technology, consumer goods, and automotive. Each company is represented by a ticker symbol (e.g., RELIANCE.NS, ICICIBANK.NS), and the dataset includes the following features:\n",
    "\n",
    "Date: The date on which the stock price is recorded.\n",
    "    \n",
    "Closing Price: The adjusted closing price for each stock on that particular date.\n",
    "    \n",
    "Companies: A total of 50 top Indian companies are represented, covering a range of sectors like banking (HDFC Bank, ICICI Bank), technology (TCS, Infosys), consumer goods (Hindustan Unilever, ITC), automotive (Tata Motors, Bajaj Auto), and others."
   ]
  },
  {
   "cell_type": "markdown",
   "id": "23c717ca",
   "metadata": {},
   "source": [
    "# Problem\n",
    "\n",
    "The goal is to develop a Mutual Funds Investment Bucket that is optimized for long-term investments by balancing risk and returns. This involves selecting companies that provide consistent growth and moderate returns while minimizing exposure to volatility. Specifically, the objectives are:\n",
    "\n",
    "Stock Selection: Identify stocks with high ROI and low volatility, which will form the core of the mutual funds portfolio.\n",
    "    \n",
    "Performance Evaluation: Use metrics such as volatility (standard deviation) and expected ROI to assess which stocks are optimal for inclusion in the portfolio.\n",
    "    \n",
    "Investment Strategy: Simulate the expected future value of investments based on monthly contributions over different time horizons (e.g., 1 year, 3 years, 5 years, and 10 years).\n",
    "    \n",
    "Risk-Reward Balance: Develop a strategy that ensures a balance between risk and reward, targeting long-term investors who seek stable, compounded growth over several years."
   ]
  },
  {
   "cell_type": "markdown",
   "id": "438c849a",
   "metadata": {},
   "source": [
    "# Solution "
   ]
  },
  {
   "cell_type": "markdown",
   "id": "b747504d",
   "metadata": {},
   "source": [
    "# Creating a Mutual Fund Plan\n",
    "\n",
    "A mutual fund plan is created by selecting the stocks where an investor can benefit in the long term.  The process we can follow to create a mutual fund plan:\n",
    "\n",
    "Step 1: Gather historical stock data, such as closing prices and growth trends over time.\n",
    "    \n",
    "Step 2: Calculate key metrics like Return on Investment (ROI) and volatility (risk) to understand how each stock has performed historically.\n",
    "    \n",
    "Step 3: Choose stocks that have a high ROI and low volatility to ensure a balance between risk and reward.\n",
    "    \n",
    "Step 4: Calculate the future value of monthly investments based on the expected ROI of the selected stocks."
   ]
  },
  {
   "cell_type": "code",
   "execution_count": 47,
   "id": "1a6285be",
   "metadata": {},
   "outputs": [],
   "source": [
    "import numpy as np \n",
    "import pandas as pd "
   ]
  },
  {
   "cell_type": "code",
   "execution_count": 2,
   "id": "4ac85269",
   "metadata": {},
   "outputs": [],
   "source": [
    "data = pd.read_csv(\"nifty_50.csv\")"
   ]
  },
  {
   "cell_type": "code",
   "execution_count": 3,
   "id": "ba08d6f6",
   "metadata": {},
   "outputs": [
    {
     "data": {
      "text/html": [
       "<div>\n",
       "<style scoped>\n",
       "    .dataframe tbody tr th:only-of-type {\n",
       "        vertical-align: middle;\n",
       "    }\n",
       "\n",
       "    .dataframe tbody tr th {\n",
       "        vertical-align: top;\n",
       "    }\n",
       "\n",
       "    .dataframe thead th {\n",
       "        text-align: right;\n",
       "    }\n",
       "</style>\n",
       "<table border=\"1\" class=\"dataframe\">\n",
       "  <thead>\n",
       "    <tr style=\"text-align: right;\">\n",
       "      <th></th>\n",
       "      <th>Date</th>\n",
       "      <th>RELIANCE.NS</th>\n",
       "      <th>HDFCBANK.NS</th>\n",
       "      <th>ICICIBANK.NS</th>\n",
       "      <th>INFY.NS</th>\n",
       "      <th>TCS.NS</th>\n",
       "      <th>KOTAKBANK.NS</th>\n",
       "      <th>HINDUNILVR.NS</th>\n",
       "      <th>ITC.NS</th>\n",
       "      <th>LT.NS</th>\n",
       "      <th>...</th>\n",
       "      <th>HEROMOTOCO.NS</th>\n",
       "      <th>DRREDDY.NS</th>\n",
       "      <th>SHREECEM.NS</th>\n",
       "      <th>BRITANNIA.NS</th>\n",
       "      <th>UPL.NS</th>\n",
       "      <th>EICHERMOT.NS</th>\n",
       "      <th>SBILIFE.NS</th>\n",
       "      <th>ADANIPORTS.NS</th>\n",
       "      <th>BAJAJ-AUTO.NS</th>\n",
       "      <th>HINDALCO.NS</th>\n",
       "    </tr>\n",
       "  </thead>\n",
       "  <tbody>\n",
       "    <tr>\n",
       "      <th>13</th>\n",
       "      <td>2024-09-06 00:00:00+05:30</td>\n",
       "      <td>2929.649902</td>\n",
       "      <td>1636.949951</td>\n",
       "      <td>1208.150024</td>\n",
       "      <td>1901.849976</td>\n",
       "      <td>4456.750000</td>\n",
       "      <td>1764.150024</td>\n",
       "      <td>2838.949951</td>\n",
       "      <td>501.700012</td>\n",
       "      <td>3574.750000</td>\n",
       "      <td>...</td>\n",
       "      <td>5743.750000</td>\n",
       "      <td>6667.149902</td>\n",
       "      <td>25610.449219</td>\n",
       "      <td>5843.549805</td>\n",
       "      <td>609.799988</td>\n",
       "      <td>4752.500000</td>\n",
       "      <td>1896.300049</td>\n",
       "      <td>1442.400024</td>\n",
       "      <td>10830.099609</td>\n",
       "      <td>667.099976</td>\n",
       "    </tr>\n",
       "    <tr>\n",
       "      <th>2</th>\n",
       "      <td>2024-08-22 00:00:00+05:30</td>\n",
       "      <td>2996.250000</td>\n",
       "      <td>1631.300049</td>\n",
       "      <td>1191.099976</td>\n",
       "      <td>1880.250000</td>\n",
       "      <td>4502.000000</td>\n",
       "      <td>1821.500000</td>\n",
       "      <td>2792.800049</td>\n",
       "      <td>504.549988</td>\n",
       "      <td>3606.500000</td>\n",
       "      <td>...</td>\n",
       "      <td>5329.950195</td>\n",
       "      <td>6969.049805</td>\n",
       "      <td>25012.400391</td>\n",
       "      <td>5836.799805</td>\n",
       "      <td>579.150024</td>\n",
       "      <td>4933.549805</td>\n",
       "      <td>1795.250000</td>\n",
       "      <td>1492.300049</td>\n",
       "      <td>9914.200195</td>\n",
       "      <td>685.549988</td>\n",
       "    </tr>\n",
       "    <tr>\n",
       "      <th>12</th>\n",
       "      <td>2024-09-05 00:00:00+05:30</td>\n",
       "      <td>2985.949951</td>\n",
       "      <td>1645.449951</td>\n",
       "      <td>1235.949951</td>\n",
       "      <td>1933.150024</td>\n",
       "      <td>4475.950195</td>\n",
       "      <td>1777.949951</td>\n",
       "      <td>2838.449951</td>\n",
       "      <td>511.200012</td>\n",
       "      <td>3624.149902</td>\n",
       "      <td>...</td>\n",
       "      <td>5734.200195</td>\n",
       "      <td>6695.750000</td>\n",
       "      <td>25662.250000</td>\n",
       "      <td>5850.000000</td>\n",
       "      <td>618.700012</td>\n",
       "      <td>4800.100098</td>\n",
       "      <td>1907.849976</td>\n",
       "      <td>1465.550049</td>\n",
       "      <td>10855.750000</td>\n",
       "      <td>669.950012</td>\n",
       "    </tr>\n",
       "    <tr>\n",
       "      <th>7</th>\n",
       "      <td>2024-08-29 00:00:00+05:30</td>\n",
       "      <td>3041.850098</td>\n",
       "      <td>1638.550049</td>\n",
       "      <td>1221.900024</td>\n",
       "      <td>1933.349976</td>\n",
       "      <td>4511.799805</td>\n",
       "      <td>1777.250000</td>\n",
       "      <td>2785.250000</td>\n",
       "      <td>505.100006</td>\n",
       "      <td>3683.449951</td>\n",
       "      <td>...</td>\n",
       "      <td>5374.500000</td>\n",
       "      <td>6931.149902</td>\n",
       "      <td>24821.349609</td>\n",
       "      <td>5831.399902</td>\n",
       "      <td>577.799988</td>\n",
       "      <td>4915.899902</td>\n",
       "      <td>1843.699951</td>\n",
       "      <td>1476.050049</td>\n",
       "      <td>10807.849609</td>\n",
       "      <td>700.500000</td>\n",
       "    </tr>\n",
       "    <tr>\n",
       "      <th>14</th>\n",
       "      <td>2024-09-09 00:00:00+05:30</td>\n",
       "      <td>2924.899902</td>\n",
       "      <td>1646.500000</td>\n",
       "      <td>1235.000000</td>\n",
       "      <td>1894.650024</td>\n",
       "      <td>4449.549805</td>\n",
       "      <td>1790.150024</td>\n",
       "      <td>2921.800049</td>\n",
       "      <td>511.750000</td>\n",
       "      <td>3578.300049</td>\n",
       "      <td>...</td>\n",
       "      <td>5745.299805</td>\n",
       "      <td>6655.899902</td>\n",
       "      <td>25798.599609</td>\n",
       "      <td>5939.450195</td>\n",
       "      <td>604.400024</td>\n",
       "      <td>4747.350098</td>\n",
       "      <td>1901.750000</td>\n",
       "      <td>1435.900024</td>\n",
       "      <td>10847.599609</td>\n",
       "      <td>658.549988</td>\n",
       "    </tr>\n",
       "  </tbody>\n",
       "</table>\n",
       "<p>5 rows × 51 columns</p>\n",
       "</div>"
      ],
      "text/plain": [
       "                         Date  RELIANCE.NS  HDFCBANK.NS  ICICIBANK.NS  \\\n",
       "13  2024-09-06 00:00:00+05:30  2929.649902  1636.949951   1208.150024   \n",
       "2   2024-08-22 00:00:00+05:30  2996.250000  1631.300049   1191.099976   \n",
       "12  2024-09-05 00:00:00+05:30  2985.949951  1645.449951   1235.949951   \n",
       "7   2024-08-29 00:00:00+05:30  3041.850098  1638.550049   1221.900024   \n",
       "14  2024-09-09 00:00:00+05:30  2924.899902  1646.500000   1235.000000   \n",
       "\n",
       "        INFY.NS       TCS.NS  KOTAKBANK.NS  HINDUNILVR.NS      ITC.NS  \\\n",
       "13  1901.849976  4456.750000   1764.150024    2838.949951  501.700012   \n",
       "2   1880.250000  4502.000000   1821.500000    2792.800049  504.549988   \n",
       "12  1933.150024  4475.950195   1777.949951    2838.449951  511.200012   \n",
       "7   1933.349976  4511.799805   1777.250000    2785.250000  505.100006   \n",
       "14  1894.650024  4449.549805   1790.150024    2921.800049  511.750000   \n",
       "\n",
       "          LT.NS  ...  HEROMOTOCO.NS   DRREDDY.NS   SHREECEM.NS  BRITANNIA.NS  \\\n",
       "13  3574.750000  ...    5743.750000  6667.149902  25610.449219   5843.549805   \n",
       "2   3606.500000  ...    5329.950195  6969.049805  25012.400391   5836.799805   \n",
       "12  3624.149902  ...    5734.200195  6695.750000  25662.250000   5850.000000   \n",
       "7   3683.449951  ...    5374.500000  6931.149902  24821.349609   5831.399902   \n",
       "14  3578.300049  ...    5745.299805  6655.899902  25798.599609   5939.450195   \n",
       "\n",
       "        UPL.NS  EICHERMOT.NS   SBILIFE.NS  ADANIPORTS.NS  BAJAJ-AUTO.NS  \\\n",
       "13  609.799988   4752.500000  1896.300049    1442.400024   10830.099609   \n",
       "2   579.150024   4933.549805  1795.250000    1492.300049    9914.200195   \n",
       "12  618.700012   4800.100098  1907.849976    1465.550049   10855.750000   \n",
       "7   577.799988   4915.899902  1843.699951    1476.050049   10807.849609   \n",
       "14  604.400024   4747.350098  1901.750000    1435.900024   10847.599609   \n",
       "\n",
       "    HINDALCO.NS  \n",
       "13   667.099976  \n",
       "2    685.549988  \n",
       "12   669.950012  \n",
       "7    700.500000  \n",
       "14   658.549988  \n",
       "\n",
       "[5 rows x 51 columns]"
      ]
     },
     "execution_count": 3,
     "metadata": {},
     "output_type": "execute_result"
    }
   ],
   "source": [
    "data.sample(5)"
   ]
  },
  {
   "cell_type": "code",
   "execution_count": 4,
   "id": "972ce34c",
   "metadata": {},
   "outputs": [],
   "source": [
    "# Now I’ll convert the date column into a datetime data type\n",
    "\n",
    "data['Date'] = pd.to_datetime(data['Date'])\n"
   ]
  },
  {
   "cell_type": "code",
   "execution_count": 5,
   "id": "f2909cb8",
   "metadata": {},
   "outputs": [],
   "source": [
    "# data['Date']"
   ]
  },
  {
   "cell_type": "code",
   "execution_count": 6,
   "id": "5aa8cdb5",
   "metadata": {},
   "outputs": [
    {
     "name": "stdout",
     "output_type": "stream",
     "text": [
      "Date              0\n",
      "RELIANCE.NS       0\n",
      "HDFCBANK.NS       0\n",
      "ICICIBANK.NS      0\n",
      "INFY.NS           0\n",
      "TCS.NS            0\n",
      "KOTAKBANK.NS      0\n",
      "HINDUNILVR.NS     0\n",
      "ITC.NS            0\n",
      "LT.NS             0\n",
      "SBIN.NS           0\n",
      "BAJFINANCE.NS     0\n",
      "BHARTIARTL.NS     0\n",
      "HCLTECH.NS        0\n",
      "ASIANPAINT.NS     0\n",
      "AXISBANK.NS       0\n",
      "DMART.NS          0\n",
      "MARUTI.NS         0\n",
      "ULTRACEMCO.NS     0\n",
      "HDFC.NS          24\n",
      "TITAN.NS          0\n",
      "SUNPHARMA.NS      0\n",
      "M&M.NS            0\n",
      "NESTLEIND.NS      0\n",
      "WIPRO.NS          0\n",
      "ADANIGREEN.NS     0\n",
      "TATASTEEL.NS      0\n",
      "JSWSTEEL.NS       0\n",
      "POWERGRID.NS      0\n",
      "ONGC.NS           0\n",
      "NTPC.NS           0\n",
      "COALINDIA.NS      0\n",
      "BPCL.NS           0\n",
      "IOC.NS            0\n",
      "TECHM.NS          0\n",
      "INDUSINDBK.NS     0\n",
      "DIVISLAB.NS       0\n",
      "GRASIM.NS         0\n",
      "CIPLA.NS          0\n",
      "BAJAJFINSV.NS     0\n",
      "TATAMOTORS.NS     0\n",
      "HEROMOTOCO.NS     0\n",
      "DRREDDY.NS        0\n",
      "SHREECEM.NS       0\n",
      "BRITANNIA.NS      0\n",
      "UPL.NS            0\n",
      "EICHERMOT.NS      0\n",
      "SBILIFE.NS        0\n",
      "ADANIPORTS.NS     0\n",
      "BAJAJ-AUTO.NS     0\n",
      "HINDALCO.NS       0\n",
      "dtype: int64\n"
     ]
    }
   ],
   "source": [
    "# let’s have a look at whether this data has any null values or not:\n",
    "\n",
    "print(data.isnull().sum())"
   ]
  },
  {
   "cell_type": "code",
   "execution_count": 50,
   "id": "288d6f90",
   "metadata": {},
   "outputs": [
    {
     "name": "stdout",
     "output_type": "stream",
     "text": [
      "         Date  HDFC  RELIANCE\n",
      "0  2023-01-01   NaN         0\n",
      "1  2023-01-02   NaN         0\n",
      "2  2023-01-03  24.0         0\n",
      "3  2023-01-04  24.0         0\n"
     ]
    }
   ],
   "source": [
    "# There are 24 null values in the closing prices of HDFC. Let’s fill in these null values using \n",
    "# the forward fill method:\n",
    "\n",
    "data = pd.DataFrame({\n",
    "    'Date': ['2023-01-01', '2023-01-02', '2023-01-03', '2023-01-04'],\n",
    "    'HDFC': [None, None, 24, None],\n",
    "    'RELIANCE': [0, 0, 0, 0]\n",
    "})\n",
    "\n",
    "# Fill null values in the 'HDFC' column\n",
    "data['HDFC'] = data['HDFC'].ffill()\n",
    "\n",
    "# Or fill null values in the entire DataFrame\n",
    "# data = data.ffill()\n",
    "\n",
    "print(data)"
   ]
  },
  {
   "cell_type": "markdown",
   "id": "7cb9fe82",
   "metadata": {},
   "source": [
    "# Now, let’s have a look at the stock price trends of all the companies in the data:"
   ]
  },
  {
   "cell_type": "code",
   "execution_count": 23,
   "id": "a353255a",
   "metadata": {},
   "outputs": [
    {
     "data": {
      "image/png": "[encoded data removed]",
      "text/plain": [
       "<Figure size 1200x600 with 1 Axes>"
      ]
     },
     "metadata": {},
     "output_type": "display_data"
    }
   ],
   "source": [
    "import pandas as pd\n",
    "import matplotlib.pyplot as plt\n",
    "\n",
    "# Sample DataFrame (replace this with your actual data)\n",
    "data = pd.DataFrame({\n",
    "    'Date': ['2023-01-01', '2023-01-02', '2023-01-03', '2023-01-04'],\n",
    "    'HDFC': [24, 25, 26, 27],\n",
    "    'RELIANCE': [2000, 2010, 2020, 2030],\n",
    "    'TCS': [3200, 3210, 3220, 3230], \n",
    "    'INFY': [1500, 1510, 1520, 1530] \n",
    "})\n",
    "\n",
    "# Convert 'Date' to datetime\n",
    "data['Date'] = pd.to_datetime(data['Date'])\n",
    "\n",
    "\n",
    "data.set_index('Date', inplace=True)\n",
    "\n",
    "\n",
    "plt.figure(figsize=(12, 6))\n",
    "\n",
    "\n",
    "for company in data.columns:\n",
    "    plt.plot(data.index, data[company], marker='o', label=company, alpha=0.7)\n",
    "\n",
    "\n",
    "plt.title('Stock Price Trends of All Companies')\n",
    "plt.xlabel('Date')\n",
    "plt.ylabel('Closing Price (INR)')\n",
    "plt.xticks(rotation=45)\n",
    "plt.legend()\n",
    "plt.grid()\n",
    "plt.tight_layout()  \n",
    "\n",
    "\n",
    "plt.show()"
   ]
  },
  {
   "cell_type": "markdown",
   "id": "27d8d842",
   "metadata": {},
   "source": [
    "# Let’s look at the companies with the highest risks for investing:"
   ]
  },
  {
   "cell_type": "code",
   "execution_count": 9,
   "id": "cf729cbd",
   "metadata": {},
   "outputs": [
    {
     "data": {
      "text/plain": [
       "BAJAJ-AUTO.NS    659.810841\n",
       "SHREECEM.NS      429.919834\n",
       "BAJFINANCE.NS    306.658594\n",
       "DIVISLAB.NS      247.674895\n",
       "HEROMOTOCO.NS    247.092728\n",
       "DRREDDY.NS       175.124908\n",
       "ULTRACEMCO.NS    172.673053\n",
       "DMART.NS         155.593701\n",
       "BRITANNIA.NS     144.164343\n",
       "MARUTI.NS        109.587342\n",
       "dtype: float64"
      ]
     },
     "execution_count": 9,
     "metadata": {},
     "output_type": "execute_result"
    }
   ],
   "source": [
    "all_companies = data.columns[1:]\n",
    "\n",
    "volatility_all_companies = data[all_companies].std()\n",
    "\n",
    "volatility_all_companies.sort_values(ascending=False).head(10)"
   ]
  },
  {
   "cell_type": "code",
   "execution_count": 10,
   "id": "c592fadd",
   "metadata": {},
   "outputs": [],
   "source": [
    "# all_companies"
   ]
  },
  {
   "cell_type": "code",
   "execution_count": 11,
   "id": "14bbce48",
   "metadata": {},
   "outputs": [
    {
     "data": {
      "text/plain": [
       "BAJAJ-AUTO.NS    659.810841\n",
       "SHREECEM.NS      429.919834\n",
       "BAJFINANCE.NS    306.658594\n",
       "DIVISLAB.NS      247.674895\n",
       "HEROMOTOCO.NS    247.092728\n",
       "DRREDDY.NS       175.124908\n",
       "ULTRACEMCO.NS    172.673053\n",
       "DMART.NS         155.593701\n",
       "BRITANNIA.NS     144.164343\n",
       "MARUTI.NS        109.587342\n",
       "dtype: float64"
      ]
     },
     "execution_count": 11,
     "metadata": {},
     "output_type": "execute_result"
    }
   ],
   "source": [
    "volatility_all_companies.sort_values(ascending=False).head(10)"
   ]
  },
  {
   "cell_type": "code",
   "execution_count": 12,
   "id": "55c3d5f5",
   "metadata": {},
   "outputs": [
    {
     "name": "stdout",
     "output_type": "stream",
     "text": [
      "BAJAJ-AUTO.NS    659.810841\n",
      "SHREECEM.NS      429.919834\n",
      "BAJFINANCE.NS    306.658594\n",
      "DIVISLAB.NS      247.674895\n",
      "HEROMOTOCO.NS    247.092728\n",
      "DRREDDY.NS       175.124908\n",
      "ULTRACEMCO.NS    172.673053\n",
      "DMART.NS         155.593701\n",
      "BRITANNIA.NS     144.164343\n",
      "MARUTI.NS        109.587342\n",
      "dtype: float64\n"
     ]
    }
   ],
   "source": [
    "# average_growth_all_companies.sort_values(ascending=False).head(10)\n",
    "import pandas as pd\n",
    "\n",
    "average_growth_all_companies = pd.Series({\n",
    "    'BAJAJ-AUTO.NS': 659.810841,\n",
    "    'SHREECEM.NS': 429.919834,\n",
    "    'BAJFINANCE.NS': 306.658594,\n",
    "    'DIVISLAB.NS': 247.674895,\n",
    "    'HEROMOTOCO.NS': 247.092728,\n",
    "    'DRREDDY.NS': 175.124908,\n",
    "    'ULTRACEMCO.NS': 172.673053,\n",
    "    'DMART.NS': 155.593701,\n",
    "    'BRITANNIA.NS': 144.164343,\n",
    "    'MARUTI.NS': 109.587342\n",
    "})\n",
    "\n",
    "\n",
    "print(average_growth_all_companies)"
   ]
  },
  {
   "cell_type": "code",
   "execution_count": 15,
   "id": "d92323f7",
   "metadata": {},
   "outputs": [
    {
     "data": {
      "text/plain": [
       "SHREECEM.NS      2.439992\n",
       "BAJAJ-AUTO.NS    2.177272\n",
       "HEROMOTOCO.NS    1.408637\n",
       "BAJFINANCE.NS    1.316961\n",
       "DIVISLAB.NS      1.099708\n",
       "dtype: float64"
      ]
     },
     "execution_count": 15,
     "metadata": {},
     "output_type": "execute_result"
    }
   ],
   "source": [
    "# Now, let’s look at the companies with the highest growth rate for investing:\n",
    "\n",
    "\n",
    "growth_all_companies = data[all_companies].pct_change() * 100\n",
    "\n",
    "\n",
    "\n",
    "average_growth_all_companies = growth_all_companies.mean()\n",
    "\n",
    "\n",
    "\n",
    "average_growth_all_companies.sort_values(ascending=False).head(10)"
   ]
  },
  {
   "cell_type": "code",
   "execution_count": 14,
   "id": "22b23002",
   "metadata": {},
   "outputs": [
    {
     "data": {
      "text/plain": [
       "SHREECEM.NS      7.500000\n",
       "BAJAJ-AUTO.NS    6.666667\n",
       "HEROMOTOCO.NS    4.285714\n",
       "BAJFINANCE.NS    4.000000\n",
       "DIVISLAB.NS      3.333333\n",
       "dtype: float64"
      ]
     },
     "execution_count": 14,
     "metadata": {},
     "output_type": "execute_result"
    }
   ],
   "source": [
    "# Now, let’s have a look at the companies with the highest return on investments:\n",
    "\n",
    "\n",
    "initial_prices_all = data[all_companies].iloc[0]\n",
    "\n",
    "final_prices_all = data[all_companies].iloc[-1]\n",
    "\n",
    "\n",
    "\n",
    "roi_all_companies = ((final_prices_all - initial_prices_all) / initial_prices_all) * 100\n",
    "\n",
    "\n",
    "\n",
    "roi_all_companies.sort_values(ascending=False).head(10)"
   ]
  },
  {
   "cell_type": "markdown",
   "id": "a3dbbdf5",
   "metadata": {},
   "source": [
    "# Creating a Mutual Fund Plan Based on High ROI and Low Risk\n",
    "\n",
    "To create a strategy for selecting companies with high ROI and low risk, we can use a combination of ROI and volatility (standard deviation) metrics. The goal is to find companies that offer a high return on investment (ROI) but with low volatility to minimize risk.\n",
    "\n",
    "Here are the steps we can follow for creating a mutual fund plan:\n",
    "\n",
    "\n",
    "Define ROI and Volatility Thresholds: We will set thresholds for ROI and volatility to select companies that provide good returns with lower risks.\n",
    "    \n",
    "Rank Companies by ROI and Volatility: Rank all companies based on their ROI and volatility scores.\n",
    "    \n",
    "Assign Investment Ratios: Allocate more investment to companies with higher ROI and lower volatility.\n",
    "    \n",
    "Let’s start by defining thresholds and selecting companies that meet the criteria of high ROI and low volatility:"
   ]
  },
  {
   "cell_type": "code",
   "execution_count": 15,
   "id": "0a0b6ef9",
   "metadata": {},
   "outputs": [
    {
     "data": {
      "text/plain": [
       "ICICIBANK.NS     13.480860\n",
       "INDUSINDBK.NS     7.159914\n",
       "JSWSTEEL.NS       7.021748\n",
       "AXISBANK.NS       6.592466\n",
       "HDFCBANK.NS       6.319839\n",
       "SUNPHARMA.NS      5.627425\n",
       "KOTAKBANK.NS      5.474481\n",
       "CIPLA.NS          4.850117\n",
       "NTPC.NS           4.356926\n",
       "dtype: float64"
      ]
     },
     "execution_count": 15,
     "metadata": {},
     "output_type": "execute_result"
    }
   ],
   "source": [
    "roi_threshold = roi_all_companies.median()\n",
    "volatility_threshold = volatility_all_companies.median()\n",
    "\n",
    "selected_companies = roi_all_companies[(roi_all_companies > roi_threshold) & (volatility_all_companies < volatility_threshold)]\n",
    "\n",
    "selected_companies.sort_values(ascending=False)"
   ]
  },
  {
   "cell_type": "code",
   "execution_count": null,
   "id": "e8b4a705",
   "metadata": {},
   "outputs": [],
   "source": []
  },
  {
   "cell_type": "code",
   "execution_count": 16,
   "id": "248f17ae",
   "metadata": {},
   "outputs": [],
   "source": [
    "# The following companies meet the criteria of high ROI and low volatility:\n",
    "\n",
    "# ICICI Bank (ROI: 13.48%)\n",
    "# IndusInd Bank (ROI: 7.16%)\n",
    "# JSW Steel (ROI: 7.02%)\n",
    "# Axis Bank (ROI: 6.59%)\n",
    "# HDFC Bank (ROI: 6.32%)\n",
    "# Sun Pharma (ROI: 5.63%)\n",
    "# Kotak Bank (ROI: 5.47%)\n",
    "# Cipla (ROI: 4.85%)\n",
    "# NTPC (ROI: 4.36%)\n",
    "\n",
    "# To balance the investment between these companies, we can use an inverse volatility ratio for allocation. \n",
    "# Companies with lower volatility will get a higher weight. \n",
    "\n"
   ]
  },
  {
   "cell_type": "markdown",
   "id": "19395adc",
   "metadata": {},
   "source": [
    "# Let’s calculate the weight for each company:"
   ]
  },
  {
   "cell_type": "code",
   "execution_count": 17,
   "id": "211eec09",
   "metadata": {},
   "outputs": [
    {
     "data": {
      "text/plain": [
       "NTPC.NS          0.280768\n",
       "JSWSTEEL.NS      0.159985\n",
       "AXISBANK.NS      0.092231\n",
       "HDFCBANK.NS      0.089330\n",
       "CIPLA.NS         0.084783\n",
       "KOTAKBANK.NS     0.076642\n",
       "INDUSINDBK.NS    0.074432\n",
       "SUNPHARMA.NS     0.072553\n",
       "ICICIBANK.NS     0.069276\n",
       "dtype: float64"
      ]
     },
     "execution_count": 17,
     "metadata": {},
     "output_type": "execute_result"
    }
   ],
   "source": [
    "selected_volatility = volatility_all_companies[selected_companies.index]\n",
    "inverse_volatility = 1 / selected_volatility\n",
    "\n",
    "investment_ratios = inverse_volatility / inverse_volatility.sum()\n",
    "\n",
    "investment_ratios.sort_values(ascending=False)"
   ]
  },
  {
   "cell_type": "code",
   "execution_count": 18,
   "id": "0552c878",
   "metadata": {},
   "outputs": [],
   "source": [
    "# The investment ratios based on inverse volatility are as follows:\n",
    "\n",
    "# NTPC: 28.08%\n",
    "# JSW Steel: 15.99%\n",
    "# Axis Bank: 9.22%\n",
    "# HDFC Bank: 8.93%\n",
    "# Cipla: 8.48%\n",
    "# Kotak Bank: 7.66%\n",
    "# IndusInd Bank: 7.44%\n",
    "# Sun Pharma: 7.26%\n",
    "# ICICI Bank: 6.93%"
   ]
  },
  {
   "cell_type": "markdown",
   "id": "342410c3",
   "metadata": {},
   "source": [
    "# Analyzing Our Mutual Fund Plan\n",
    "\n",
    "\n",
    "We have created a mutual fund plan for long-term investments. \n",
    "Now, let’s analyze and compare our mutual fund plan by comparing it with the high-performing companies in the stock market. \n",
    "\n",
    "Let’s start by comparing the risks in our mutual fund with the risk in the high growth companies:"
   ]
  },
  {
   "cell_type": "code",
   "execution_count": 25,
   "id": "22a06d9d",
   "metadata": {},
   "outputs": [
    {
     "data": {
      "image/png": "[encoded data removed]",
      "text/plain": [
       "<Figure size 1200x600 with 1 Axes>"
      ]
     },
     "metadata": {},
     "output_type": "display_data"
    }
   ],
   "source": [
    "import pandas as pd\n",
    "import matplotlib.pyplot as plt\n",
    "\n",
    "\n",
    "average_growth_all_companies = pd.Series({\n",
    "    'BAJAJ-AUTO.NS': 659.81,\n",
    "    'SHREECEM.NS': 429.92,\n",
    "    'BAJFINANCE.NS': 306.66,\n",
    "    'DIVISLAB.NS': 247.67,\n",
    "    'HEROMOTOCO.NS': 247.09,\n",
    "    'DRREDDY.NS': 175.12,\n",
    "    'ULTRACEMCO.NS': 172.67,\n",
    "    'DMART.NS': 155.59,\n",
    "    'BRITANNIA.NS': 144.16,\n",
    "    'MARUTI.NS': 109.59\n",
    "})\n",
    "\n",
    "\n",
    "volatility_all_companies = pd.Series({\n",
    "    'BAJAJ-AUTO.NS': 15.2,\n",
    "    'SHREECEM.NS': 10.5,\n",
    "    'BAJFINANCE.NS': 12.3,\n",
    "    'DIVISLAB.NS': 8.7,\n",
    "    'HEROMOTOCO.NS': 9.1,\n",
    "    'DRREDDY.NS': 7.5,\n",
    "    'ULTRACEMCO.NS': 6.8,\n",
    "    'DMART.NS': 5.4,\n",
    "    'BRITANNIA.NS': 4.9,\n",
    "    'MARUTI.NS': 3.6\n",
    "})\n",
    "\n",
    "\n",
    "selected_companies = average_growth_all_companies.head(5)\n",
    "\n",
    "top_growth_companies = average_growth_all_companies.sort_values(ascending=False).head(10)\n",
    "\n",
    "\n",
    "risk_growth_rate_companies = volatility_all_companies[top_growth_companies.index]\n",
    "risk_mutual_fund_companies = volatility_all_companies[selected_companies.index]\n",
    "\n",
    "# Create a horizontal bar chart\n",
    "plt.figure(figsize=(12, 6))\n",
    "\n",
    "\n",
    "plt.barh(risk_mutual_fund_companies.index, risk_mutual_fund_companies, color='blue', label='Mutual Fund Companies', alpha=0.7)\n",
    "\n",
    "\n",
    "plt.barh(risk_growth_rate_companies.index, risk_growth_rate_companies, color='green', label='Growth Rate Companies', alpha=0.7)\n",
    "\n",
    "\n",
    "plt.title('Risk Comparison: Mutual Fund vs Growth Rate Companies')\n",
    "plt.xlabel('Volatility (Standard Deviation)')\n",
    "plt.ylabel('Companies')\n",
    "plt.legend(title='Company Type')\n",
    "plt.grid(axis='x')\n",
    "\n",
    "# Show the plot\n",
    "plt.tight_layout()\n",
    "plt.show()"
   ]
  },
  {
   "cell_type": "code",
   "execution_count": 46,
   "id": "83973b75",
   "metadata": {},
   "outputs": [
    {
     "data": {
      "image/png": "[encoded data removed]",
      "text/plain": [
       "<Figure size 800x500 with 1 Axes>"
      ]
     },
     "metadata": {},
     "output_type": "display_data"
    }
   ],
   "source": [
    "# Now, let’s compare the ROI of both the groups as well:\n",
    "\n",
    "\n",
    "import matplotlib.pyplot as plt\n",
    "import pandas as pd\n",
    "import numpy as np\n",
    "\n",
    "# Mock data\n",
    "roi_all_companies = pd.Series([10, 15, 20], index=['Company A', 'Company B', 'Company C'])\n",
    "selected_companies = pd.Series(['Company A', 'Company B'], index=['Company A', 'Company B'])\n",
    "top_growth_companies = pd.Series(['Company B', 'Company C'], index=['Company B', 'Company C'])\n",
    "\n",
    "# Expected ROI calculations (align data to the same indices as roi_all_companies)\n",
    "expected_roi_mutual_fund = roi_all_companies.reindex(roi_all_companies.index).fillna(0)\n",
    "expected_roi_growth_companies = roi_all_companies.reindex(roi_all_companies.index).fillna(0)\n",
    "\n",
    "# Bar plot data\n",
    "y_labels = roi_all_companies.index\n",
    "x1 = expected_roi_mutual_fund.values\n",
    "x2 = expected_roi_growth_companies.values\n",
    "\n",
    "# Set up the figure and axis\n",
    "fig, ax = plt.subplots(figsize=(8, 5))\n",
    "\n",
    "# Bar positions\n",
    "y_positions = np.arange(len(y_labels))\n",
    "\n",
    "# Plot bars\n",
    "ax.barh(y_positions - 0.2, x1, height=0.4, label='Mutual Fund Companies', color='blue')\n",
    "ax.barh(y_positions + 0.2, x2, height=0.4, label='Growth Rate Companies', color='green', alpha=0.7)\n",
    "\n",
    "# Add labels, title, and legend\n",
    "ax.set_yticks(y_positions)\n",
    "ax.set_yticklabels(y_labels)\n",
    "ax.set_xlabel('Expected ROI (%)')\n",
    "ax.set_title('Expected ROI Comparison: Mutual Fund vs Growth Rate Companies')\n",
    "ax.legend(title='Company Type')\n",
    "\n",
    "# Show the plot\n",
    "plt.tight_layout()\n",
    "plt.show()\n",
    "\n"
   ]
  },
  {
   "cell_type": "markdown",
   "id": "26978a95",
   "metadata": {},
   "source": [
    "# The comparison between the risk (volatility) and expected ROI for mutual fund companies (in blue) and growth rate companies (in green) shows a clear trade-off. Mutual fund companies offer lower volatility, meaning they are less risky, but also provide lower expected returns. In contrast, growth rate companies demonstrate higher volatility, indicating more risk, but they offer much higher potential returns, especially companies like Bajaj Auto and Bajaj Finserv. This highlights a common investment dilemma: lower risk comes with a lower reward, while higher risk could yield higher returns.\n",
    "\n",
    "For long-term investments, the goal is typically to find companies that offer a balance of stable returns and manageable risk. The companies in our mutual fund exhibit low volatility, meaning they are less risky, and their moderate returns make them solid choices for long-term, stable growth. They are well-suited for conservative investors who want steady returns without significant fluctuations in value."
   ]
  },
  {
   "cell_type": "markdown",
   "id": "e724e184",
   "metadata": {},
   "source": [
    "# Calculating Expected Returns\n",
    "\n",
    "Now, let’s calculate the expected returns a person will get from our mutual fund if he/she invests ₹5000 every month.\n",
    "\n",
    "To calculate the expected value a person will accumulate over 1 year, 3 years, 5 years, and 10 years through the mutual \n",
    "fund plan, we can follow these steps:\n",
    "\n",
    "(1).Assume the person is investing 5000 rupees every month.\n",
    "\n",
    "(2).Use the expected ROI from the mutual fund companies to simulate the growth over time.\n",
    "\n",
    "(3).Compute the compounded value of the investments for each period (1y, 3y, 5y, and 10y).\n",
    "Visualize the accumulated value over these periods."
   ]
  },
  {
   "cell_type": "code",
   "execution_count": 21,
   "id": "58932e45",
   "metadata": {},
   "outputs": [],
   "source": [
    "# Parameters:\n",
    "# P: The periodic investment amount (e.g., monthly investment in this case).\n",
    "# r: The annual interest rate (expressed as a decimal, e.g., 5% = 0.05).\n",
    "# n: The number of times interest is compounded per year (e.g., monthly = 12).\n",
    "# t: The total investment period in years"
   ]
  },
  {
   "cell_type": "code",
   "execution_count": 22,
   "id": "a78e9c65",
   "metadata": {},
   "outputs": [
    {
     "data": {
      "application/vnd.plotly.v1+json": {
       "config": {
        "plotlyServerURL": "https://plot.ly"
       },
       "data": [
        {
         "line": {
          "color": "blue"
         },
         "marker": {
          "size": 8
         },
         "mode": "lines+markers",
         "name": "Future Value",
         "type": "scatter",
         "x": [
          "1 year",
          "3 year",
          "5 year",
          "10 year"
         ],
         "y": [
          62244.67345712617,
          200068.58713430515,
          357800.088736709,
          859131.7041113974
         ]
        }
       ],
       "layout": {
        "hovermode": "x",
        "template": {
         "data": {
          "bar": [
           {
            "error_x": {
             "color": "#2a3f5f"
            },
            "error_y": {
             "color": "#2a3f5f"
            },
            "marker": {
             "line": {
              "color": "white",
              "width": 0.5
             },
             "pattern": {
              "fillmode": "overlay",
              "size": 10,
              "solidity": 0.2
             }
            },
            "type": "bar"
           }
          ],
          "barpolar": [
           {
            "marker": {
             "line": {
              "color": "white",
              "width": 0.5
             },
             "pattern": {
              "fillmode": "overlay",
              "size": 10,
              "solidity": 0.2
             }
            },
            "type": "barpolar"
           }
          ],
          "carpet": [
           {
            "aaxis": {
             "endlinecolor": "#2a3f5f",
             "gridcolor": "#C8D4E3",
             "linecolor": "#C8D4E3",
             "minorgridcolor": "#C8D4E3",
             "startlinecolor": "#2a3f5f"
            },
            "baxis": {
             "endlinecolor": "#2a3f5f",
             "gridcolor": "#C8D4E3",
             "linecolor": "#C8D4E3",
             "minorgridcolor": "#C8D4E3",
             "startlinecolor": "#2a3f5f"
            },
            "type": "carpet"
           }
          ],
          "choropleth": [
           {
            "colorbar": {
             "outlinewidth": 0,
             "ticks": ""
            },
            "type": "choropleth"
           }
          ],
          "contour": [
           {
            "colorbar": {
             "outlinewidth": 0,
             "ticks": ""
            },
            "colorscale": [
             [
              0,
              "#0d0887"
             ],
             [
              0.1111111111111111,
              "#46039f"
             ],
             [
              0.2222222222222222,
              "#7201a8"
             ],
             [
              0.3333333333333333,
              "#9c179e"
             ],
             [
              0.4444444444444444,
              "#bd3786"
             ],
             [
              0.5555555555555556,
              "#d8576b"
             ],
             [
              0.6666666666666666,
              "#ed7953"
             ],
             [
              0.7777777777777778,
              "#fb9f3a"
             ],
             [
              0.8888888888888888,
              "#fdca26"
             ],
             [
              1,
              "#f0f921"
             ]
            ],
            "type": "contour"
           }
          ],
          "contourcarpet": [
           {
            "colorbar": {
             "outlinewidth": 0,
             "ticks": ""
            },
            "type": "contourcarpet"
           }
          ],
          "heatmap": [
           {
            "colorbar": {
             "outlinewidth": 0,
             "ticks": ""
            },
            "colorscale": [
             [
              0,
              "#0d0887"
             ],
             [
              0.1111111111111111,
              "#46039f"
             ],
             [
              0.2222222222222222,
              "#7201a8"
             ],
             [
              0.3333333333333333,
              "#9c179e"
             ],
             [
              0.4444444444444444,
              "#bd3786"
             ],
             [
              0.5555555555555556,
              "#d8576b"
             ],
             [
              0.6666666666666666,
              "#ed7953"
             ],
             [
              0.7777777777777778,
              "#fb9f3a"
             ],
             [
              0.8888888888888888,
              "#fdca26"
             ],
             [
              1,
              "#f0f921"
             ]
            ],
            "type": "heatmap"
           }
          ],
          "heatmapgl": [
           {
            "colorbar": {
             "outlinewidth": 0,
             "ticks": ""
            },
            "colorscale": [
             [
              0,
              "#0d0887"
             ],
             [
              0.1111111111111111,
              "#46039f"
             ],
             [
              0.2222222222222222,
              "#7201a8"
             ],
             [
              0.3333333333333333,
              "#9c179e"
             ],
             [
              0.4444444444444444,
              "#bd3786"
             ],
             [
              0.5555555555555556,
              "#d8576b"
             ],
             [
              0.6666666666666666,
              "#ed7953"
             ],
             [
              0.7777777777777778,
              "#fb9f3a"
             ],
             [
              0.8888888888888888,
              "#fdca26"
             ],
             [
              1,
              "#f0f921"
             ]
            ],
            "type": "heatmapgl"
           }
          ],
          "histogram": [
           {
            "marker": {
             "pattern": {
              "fillmode": "overlay",
              "size": 10,
              "solidity": 0.2
             }
            },
            "type": "histogram"
           }
          ],
          "histogram2d": [
           {
            "colorbar": {
             "outlinewidth": 0,
             "ticks": ""
            },
            "colorscale": [
             [
              0,
              "#0d0887"
             ],
             [
              0.1111111111111111,
              "#46039f"
             ],
             [
              0.2222222222222222,
              "#7201a8"
             ],
             [
              0.3333333333333333,
              "#9c179e"
             ],
             [
              0.4444444444444444,
              "#bd3786"
             ],
             [
              0.5555555555555556,
              "#d8576b"
             ],
             [
              0.6666666666666666,
              "#ed7953"
             ],
             [
              0.7777777777777778,
              "#fb9f3a"
             ],
             [
              0.8888888888888888,
              "#fdca26"
             ],
             [
              1,
              "#f0f921"
             ]
            ],
            "type": "histogram2d"
           }
          ],
          "histogram2dcontour": [
           {
            "colorbar": {
             "outlinewidth": 0,
             "ticks": ""
            },
            "colorscale": [
             [
              0,
              "#0d0887"
             ],
             [
              0.1111111111111111,
              "#46039f"
             ],
             [
              0.2222222222222222,
              "#7201a8"
             ],
             [
              0.3333333333333333,
              "#9c179e"
             ],
             [
              0.4444444444444444,
              "#bd3786"
             ],
             [
              0.5555555555555556,
              "#d8576b"
             ],
             [
              0.6666666666666666,
              "#ed7953"
             ],
             [
              0.7777777777777778,
              "#fb9f3a"
             ],
             [
              0.8888888888888888,
              "#fdca26"
             ],
             [
              1,
              "#f0f921"
             ]
            ],
            "type": "histogram2dcontour"
           }
          ],
          "mesh3d": [
           {
            "colorbar": {
             "outlinewidth": 0,
             "ticks": ""
            },
            "type": "mesh3d"
           }
          ],
          "parcoords": [
           {
            "line": {
             "colorbar": {
              "outlinewidth": 0,
              "ticks": ""
             }
            },
            "type": "parcoords"
           }
          ],
          "pie": [
           {
            "automargin": true,
            "type": "pie"
           }
          ],
          "scatter": [
           {
            "marker": {
             "colorbar": {
              "outlinewidth": 0,
              "ticks": ""
             }
            },
            "type": "scatter"
           }
          ],
          "scatter3d": [
           {
            "line": {
             "colorbar": {
              "outlinewidth": 0,
              "ticks": ""
             }
            },
            "marker": {
             "colorbar": {
              "outlinewidth": 0,
              "ticks": ""
             }
            },
            "type": "scatter3d"
           }
          ],
          "scattercarpet": [
           {
            "marker": {
             "colorbar": {
              "outlinewidth": 0,
              "ticks": ""
             }
            },
            "type": "scattercarpet"
           }
          ],
          "scattergeo": [
           {
            "marker": {
             "colorbar": {
              "outlinewidth": 0,
              "ticks": ""
             }
            },
            "type": "scattergeo"
           }
          ],
          "scattergl": [
           {
            "marker": {
             "colorbar": {
              "outlinewidth": 0,
              "ticks": ""
             }
            },
            "type": "scattergl"
           }
          ],
          "scattermapbox": [
           {
            "marker": {
             "colorbar": {
              "outlinewidth": 0,
              "ticks": ""
             }
            },
            "type": "scattermapbox"
           }
          ],
          "scatterpolar": [
           {
            "marker": {
             "colorbar": {
              "outlinewidth": 0,
              "ticks": ""
             }
            },
            "type": "scatterpolar"
           }
          ],
          "scatterpolargl": [
           {
            "marker": {
             "colorbar": {
              "outlinewidth": 0,
              "ticks": ""
             }
            },
            "type": "scatterpolargl"
           }
          ],
          "scatterternary": [
           {
            "marker": {
             "colorbar": {
              "outlinewidth": 0,
              "ticks": ""
             }
            },
            "type": "scatterternary"
           }
          ],
          "surface": [
           {
            "colorbar": {
             "outlinewidth": 0,
             "ticks": ""
            },
            "colorscale": [
             [
              0,
              "#0d0887"
             ],
             [
              0.1111111111111111,
              "#46039f"
             ],
             [
              0.2222222222222222,
              "#7201a8"
             ],
             [
              0.3333333333333333,
              "#9c179e"
             ],
             [
              0.4444444444444444,
              "#bd3786"
             ],
             [
              0.5555555555555556,
              "#d8576b"
             ],
             [
              0.6666666666666666,
              "#ed7953"
             ],
             [
              0.7777777777777778,
              "#fb9f3a"
             ],
             [
              0.8888888888888888,
              "#fdca26"
             ],
             [
              1,
              "#f0f921"
             ]
            ],
            "type": "surface"
           }
          ],
          "table": [
           {
            "cells": {
             "fill": {
              "color": "#EBF0F8"
             },
             "line": {
              "color": "white"
             }
            },
            "header": {
             "fill": {
              "color": "#C8D4E3"
             },
             "line": {
              "color": "white"
             }
            },
            "type": "table"
           }
          ]
         },
         "layout": {
          "annotationdefaults": {
           "arrowcolor": "#2a3f5f",
           "arrowhead": 0,
           "arrowwidth": 1
          },
          "autotypenumbers": "strict",
          "coloraxis": {
           "colorbar": {
            "outlinewidth": 0,
            "ticks": ""
           }
          },
          "colorscale": {
           "diverging": [
            [
             0,
             "#8e0152"
            ],
            [
             0.1,
             "#c51b7d"
            ],
            [
             0.2,
             "#de77ae"
            ],
            [
             0.3,
             "#f1b6da"
            ],
            [
             0.4,
             "#fde0ef"
            ],
            [
             0.5,
             "#f7f7f7"
            ],
            [
             0.6,
             "#e6f5d0"
            ],
            [
             0.7,
             "#b8e186"
            ],
            [
             0.8,
             "#7fbc41"
            ],
            [
             0.9,
             "#4d9221"
            ],
            [
             1,
             "#276419"
            ]
           ],
           "sequential": [
            [
             0,
             "#0d0887"
            ],
            [
             0.1111111111111111,
             "#46039f"
            ],
            [
             0.2222222222222222,
             "#7201a8"
            ],
            [
             0.3333333333333333,
             "#9c179e"
            ],
            [
             0.4444444444444444,
             "#bd3786"
            ],
            [
             0.5555555555555556,
             "#d8576b"
            ],
            [
             0.6666666666666666,
             "#ed7953"
            ],
            [
             0.7777777777777778,
             "#fb9f3a"
            ],
            [
             0.8888888888888888,
             "#fdca26"
            ],
            [
             1,
             "#f0f921"
            ]
           ],
           "sequentialminus": [
            [
             0,
             "#0d0887"
            ],
            [
             0.1111111111111111,
             "#46039f"
            ],
            [
             0.2222222222222222,
             "#7201a8"
            ],
            [
             0.3333333333333333,
             "#9c179e"
            ],
            [
             0.4444444444444444,
             "#bd3786"
            ],
            [
             0.5555555555555556,
             "#d8576b"
            ],
            [
             0.6666666666666666,
             "#ed7953"
            ],
            [
             0.7777777777777778,
             "#fb9f3a"
            ],
            [
             0.8888888888888888,
             "#fdca26"
            ],
            [
             1,
             "#f0f921"
            ]
           ]
          },
          "colorway": [
           "#636efa",
           "#EF553B",
           "#00cc96",
           "#ab63fa",
           "#FFA15A",
           "#19d3f3",
           "#FF6692",
           "#B6E880",
           "#FF97FF",
           "#FECB52"
          ],
          "font": {
           "color": "#2a3f5f"
          },
          "geo": {
           "bgcolor": "white",
           "lakecolor": "white",
           "landcolor": "white",
           "showlakes": true,
           "showland": true,
           "subunitcolor": "#C8D4E3"
          },
          "hoverlabel": {
           "align": "left"
          },
          "hovermode": "closest",
          "mapbox": {
           "style": "light"
          },
          "paper_bgcolor": "white",
          "plot_bgcolor": "white",
          "polar": {
           "angularaxis": {
            "gridcolor": "#EBF0F8",
            "linecolor": "#EBF0F8",
            "ticks": ""
           },
           "bgcolor": "white",
           "radialaxis": {
            "gridcolor": "#EBF0F8",
            "linecolor": "#EBF0F8",
            "ticks": ""
           }
          },
          "scene": {
           "xaxis": {
            "backgroundcolor": "white",
            "gridcolor": "#DFE8F3",
            "gridwidth": 2,
            "linecolor": "#EBF0F8",
            "showbackground": true,
            "ticks": "",
            "zerolinecolor": "#EBF0F8"
           },
           "yaxis": {
            "backgroundcolor": "white",
            "gridcolor": "#DFE8F3",
            "gridwidth": 2,
            "linecolor": "#EBF0F8",
            "showbackground": true,
            "ticks": "",
            "zerolinecolor": "#EBF0F8"
           },
           "zaxis": {
            "backgroundcolor": "white",
            "gridcolor": "#DFE8F3",
            "gridwidth": 2,
            "linecolor": "#EBF0F8",
            "showbackground": true,
            "ticks": "",
            "zerolinecolor": "#EBF0F8"
           }
          },
          "shapedefaults": {
           "line": {
            "color": "#2a3f5f"
           }
          },
          "ternary": {
           "aaxis": {
            "gridcolor": "#DFE8F3",
            "linecolor": "#A2B1C6",
            "ticks": ""
           },
           "baxis": {
            "gridcolor": "#DFE8F3",
            "linecolor": "#A2B1C6",
            "ticks": ""
           },
           "bgcolor": "white",
           "caxis": {
            "gridcolor": "#DFE8F3",
            "linecolor": "#A2B1C6",
            "ticks": ""
           }
          },
          "title": {
           "x": 0.05
          },
          "xaxis": {
           "automargin": true,
           "gridcolor": "#EBF0F8",
           "linecolor": "#EBF0F8",
           "ticks": "",
           "title": {
            "standoff": 15
           },
           "zerolinecolor": "#EBF0F8",
           "zerolinewidth": 2
          },
          "yaxis": {
           "automargin": true,
           "gridcolor": "#EBF0F8",
           "linecolor": "#EBF0F8",
           "ticks": "",
           "title": {
            "standoff": 15
           },
           "zerolinecolor": "#EBF0F8",
           "zerolinewidth": 2
          }
         }
        },
        "title": {
         "text": "Expected Value of Investments of ₹ 5000 Per Month (Mutual Funds)"
        },
        "xaxis": {
         "gridcolor": "lightgrey",
         "showgrid": true,
         "title": {
          "text": "Investment Period"
         }
        },
        "yaxis": {
         "gridcolor": "lightgrey",
         "showgrid": true,
         "title": {
          "text": "Future Value (INR)"
         }
        }
       }
      },
      "text/html": [
       "<div>                            <div id=\"8492296a-6251-4029-9689-2483f1b2a91f\" class=\"plotly-graph-div\" style=\"height:525px; width:100%;\"></div>            <script type=\"text/javascript\">                require([\"plotly\"], function(Plotly) {                    window.PLOTLYENV=window.PLOTLYENV || {};                                    if (document.getElementById(\"8492296a-6251-4029-9689-2483f1b2a91f\")) {                    Plotly.newPlot(                        \"8492296a-6251-4029-9689-2483f1b2a91f\",                        [{\"line\":{\"color\":\"blue\"},\"marker\":{\"size\":8},\"mode\":\"lines+markers\",\"name\":\"Future Value\",\"x\":[\"1 year\",\"3 year\",\"5 year\",\"10 year\"],\"y\":[62244.67345712617,200068.58713430515,357800.088736709,859131.7041113974],\"type\":\"scatter\"}],                        {\"template\":{\"data\":{\"barpolar\":[{\"marker\":{\"line\":{\"color\":\"white\",\"width\":0.5},\"pattern\":{\"fillmode\":\"overlay\",\"size\":10,\"solidity\":0.2}},\"type\":\"barpolar\"}],\"bar\":[{\"error_x\":{\"color\":\"#2a3f5f\"},\"error_y\":{\"color\":\"#2a3f5f\"},\"marker\":{\"line\":{\"color\":\"white\",\"width\":0.5},\"pattern\":{\"fillmode\":\"overlay\",\"size\":10,\"solidity\":0.2}},\"type\":\"bar\"}],\"carpet\":[{\"aaxis\":{\"endlinecolor\":\"#2a3f5f\",\"gridcolor\":\"#C8D4E3\",\"linecolor\":\"#C8D4E3\",\"minorgridcolor\":\"#C8D4E3\",\"startlinecolor\":\"#2a3f5f\"},\"baxis\":{\"endlinecolor\":\"#2a3f5f\",\"gridcolor\":\"#C8D4E3\",\"linecolor\":\"#C8D4E3\",\"minorgridcolor\":\"#C8D4E3\",\"startlinecolor\":\"#2a3f5f\"},\"type\":\"carpet\"}],\"choropleth\":[{\"colorbar\":{\"outlinewidth\":0,\"ticks\":\"\"},\"type\":\"choropleth\"}],\"contourcarpet\":[{\"colorbar\":{\"outlinewidth\":0,\"ticks\":\"\"},\"type\":\"contourcarpet\"}],\"contour\":[{\"colorbar\":{\"outlinewidth\":0,\"ticks\":\"\"},\"colorscale\":[[0.0,\"#0d0887\"],[0.1111111111111111,\"#46039f\"],[0.2222222222222222,\"#7201a8\"],[0.3333333333333333,\"#9c179e\"],[0.4444444444444444,\"#bd3786\"],[0.5555555555555556,\"#d8576b\"],[0.6666666666666666,\"#ed7953\"],[0.7777777777777778,\"#fb9f3a\"],[0.8888888888888888,\"#fdca26\"],[1.0,\"#f0f921\"]],\"type\":\"contour\"}],\"heatmapgl\":[{\"colorbar\":{\"outlinewidth\":0,\"ticks\":\"\"},\"colorscale\":[[0.0,\"#0d0887\"],[0.1111111111111111,\"#46039f\"],[0.2222222222222222,\"#7201a8\"],[0.3333333333333333,\"#9c179e\"],[0.4444444444444444,\"#bd3786\"],[0.5555555555555556,\"#d8576b\"],[0.6666666666666666,\"#ed7953\"],[0.7777777777777778,\"#fb9f3a\"],[0.8888888888888888,\"#fdca26\"],[1.0,\"#f0f921\"]],\"type\":\"heatmapgl\"}],\"heatmap\":[{\"colorbar\":{\"outlinewidth\":0,\"ticks\":\"\"},\"colorscale\":[[0.0,\"#0d0887\"],[0.1111111111111111,\"#46039f\"],[0.2222222222222222,\"#7201a8\"],[0.3333333333333333,\"#9c179e\"],[0.4444444444444444,\"#bd3786\"],[0.5555555555555556,\"#d8576b\"],[0.6666666666666666,\"#ed7953\"],[0.7777777777777778,\"#fb9f3a\"],[0.8888888888888888,\"#fdca26\"],[1.0,\"#f0f921\"]],\"type\":\"heatmap\"}],\"histogram2dcontour\":[{\"colorbar\":{\"outlinewidth\":0,\"ticks\":\"\"},\"colorscale\":[[0.0,\"#0d0887\"],[0.1111111111111111,\"#46039f\"],[0.2222222222222222,\"#7201a8\"],[0.3333333333333333,\"#9c179e\"],[0.4444444444444444,\"#bd3786\"],[0.5555555555555556,\"#d8576b\"],[0.6666666666666666,\"#ed7953\"],[0.7777777777777778,\"#fb9f3a\"],[0.8888888888888888,\"#fdca26\"],[1.0,\"#f0f921\"]],\"type\":\"histogram2dcontour\"}],\"histogram2d\":[{\"colorbar\":{\"outlinewidth\":0,\"ticks\":\"\"},\"colorscale\":[[0.0,\"#0d0887\"],[0.1111111111111111,\"#46039f\"],[0.2222222222222222,\"#7201a8\"],[0.3333333333333333,\"#9c179e\"],[0.4444444444444444,\"#bd3786\"],[0.5555555555555556,\"#d8576b\"],[0.6666666666666666,\"#ed7953\"],[0.7777777777777778,\"#fb9f3a\"],[0.8888888888888888,\"#fdca26\"],[1.0,\"#f0f921\"]],\"type\":\"histogram2d\"}],\"histogram\":[{\"marker\":{\"pattern\":{\"fillmode\":\"overlay\",\"size\":10,\"solidity\":0.2}},\"type\":\"histogram\"}],\"mesh3d\":[{\"colorbar\":{\"outlinewidth\":0,\"ticks\":\"\"},\"type\":\"mesh3d\"}],\"parcoords\":[{\"line\":{\"colorbar\":{\"outlinewidth\":0,\"ticks\":\"\"}},\"type\":\"parcoords\"}],\"pie\":[{\"automargin\":true,\"type\":\"pie\"}],\"scatter3d\":[{\"line\":{\"colorbar\":{\"outlinewidth\":0,\"ticks\":\"\"}},\"marker\":{\"colorbar\":{\"outlinewidth\":0,\"ticks\":\"\"}},\"type\":\"scatter3d\"}],\"scattercarpet\":[{\"marker\":{\"colorbar\":{\"outlinewidth\":0,\"ticks\":\"\"}},\"type\":\"scattercarpet\"}],\"scattergeo\":[{\"marker\":{\"colorbar\":{\"outlinewidth\":0,\"ticks\":\"\"}},\"type\":\"scattergeo\"}],\"scattergl\":[{\"marker\":{\"colorbar\":{\"outlinewidth\":0,\"ticks\":\"\"}},\"type\":\"scattergl\"}],\"scattermapbox\":[{\"marker\":{\"colorbar\":{\"outlinewidth\":0,\"ticks\":\"\"}},\"type\":\"scattermapbox\"}],\"scatterpolargl\":[{\"marker\":{\"colorbar\":{\"outlinewidth\":0,\"ticks\":\"\"}},\"type\":\"scatterpolargl\"}],\"scatterpolar\":[{\"marker\":{\"colorbar\":{\"outlinewidth\":0,\"ticks\":\"\"}},\"type\":\"scatterpolar\"}],\"scatter\":[{\"marker\":{\"colorbar\":{\"outlinewidth\":0,\"ticks\":\"\"}},\"type\":\"scatter\"}],\"scatterternary\":[{\"marker\":{\"colorbar\":{\"outlinewidth\":0,\"ticks\":\"\"}},\"type\":\"scatterternary\"}],\"surface\":[{\"colorbar\":{\"outlinewidth\":0,\"ticks\":\"\"},\"colorscale\":[[0.0,\"#0d0887\"],[0.1111111111111111,\"#46039f\"],[0.2222222222222222,\"#7201a8\"],[0.3333333333333333,\"#9c179e\"],[0.4444444444444444,\"#bd3786\"],[0.5555555555555556,\"#d8576b\"],[0.6666666666666666,\"#ed7953\"],[0.7777777777777778,\"#fb9f3a\"],[0.8888888888888888,\"#fdca26\"],[1.0,\"#f0f921\"]],\"type\":\"surface\"}],\"table\":[{\"cells\":{\"fill\":{\"color\":\"#EBF0F8\"},\"line\":{\"color\":\"white\"}},\"header\":{\"fill\":{\"color\":\"#C8D4E3\"},\"line\":{\"color\":\"white\"}},\"type\":\"table\"}]},\"layout\":{\"annotationdefaults\":{\"arrowcolor\":\"#2a3f5f\",\"arrowhead\":0,\"arrowwidth\":1},\"autotypenumbers\":\"strict\",\"coloraxis\":{\"colorbar\":{\"outlinewidth\":0,\"ticks\":\"\"}},\"colorscale\":{\"diverging\":[[0,\"#8e0152\"],[0.1,\"#c51b7d\"],[0.2,\"#de77ae\"],[0.3,\"#f1b6da\"],[0.4,\"#fde0ef\"],[0.5,\"#f7f7f7\"],[0.6,\"#e6f5d0\"],[0.7,\"#b8e186\"],[0.8,\"#7fbc41\"],[0.9,\"#4d9221\"],[1,\"#276419\"]],\"sequential\":[[0.0,\"#0d0887\"],[0.1111111111111111,\"#46039f\"],[0.2222222222222222,\"#7201a8\"],[0.3333333333333333,\"#9c179e\"],[0.4444444444444444,\"#bd3786\"],[0.5555555555555556,\"#d8576b\"],[0.6666666666666666,\"#ed7953\"],[0.7777777777777778,\"#fb9f3a\"],[0.8888888888888888,\"#fdca26\"],[1.0,\"#f0f921\"]],\"sequentialminus\":[[0.0,\"#0d0887\"],[0.1111111111111111,\"#46039f\"],[0.2222222222222222,\"#7201a8\"],[0.3333333333333333,\"#9c179e\"],[0.4444444444444444,\"#bd3786\"],[0.5555555555555556,\"#d8576b\"],[0.6666666666666666,\"#ed7953\"],[0.7777777777777778,\"#fb9f3a\"],[0.8888888888888888,\"#fdca26\"],[1.0,\"#f0f921\"]]},\"colorway\":[\"#636efa\",\"#EF553B\",\"#00cc96\",\"#ab63fa\",\"#FFA15A\",\"#19d3f3\",\"#FF6692\",\"#B6E880\",\"#FF97FF\",\"#FECB52\"],\"font\":{\"color\":\"#2a3f5f\"},\"geo\":{\"bgcolor\":\"white\",\"lakecolor\":\"white\",\"landcolor\":\"white\",\"showlakes\":true,\"showland\":true,\"subunitcolor\":\"#C8D4E3\"},\"hoverlabel\":{\"align\":\"left\"},\"hovermode\":\"closest\",\"mapbox\":{\"style\":\"light\"},\"paper_bgcolor\":\"white\",\"plot_bgcolor\":\"white\",\"polar\":{\"angularaxis\":{\"gridcolor\":\"#EBF0F8\",\"linecolor\":\"#EBF0F8\",\"ticks\":\"\"},\"bgcolor\":\"white\",\"radialaxis\":{\"gridcolor\":\"#EBF0F8\",\"linecolor\":\"#EBF0F8\",\"ticks\":\"\"}},\"scene\":{\"xaxis\":{\"backgroundcolor\":\"white\",\"gridcolor\":\"#DFE8F3\",\"gridwidth\":2,\"linecolor\":\"#EBF0F8\",\"showbackground\":true,\"ticks\":\"\",\"zerolinecolor\":\"#EBF0F8\"},\"yaxis\":{\"backgroundcolor\":\"white\",\"gridcolor\":\"#DFE8F3\",\"gridwidth\":2,\"linecolor\":\"#EBF0F8\",\"showbackground\":true,\"ticks\":\"\",\"zerolinecolor\":\"#EBF0F8\"},\"zaxis\":{\"backgroundcolor\":\"white\",\"gridcolor\":\"#DFE8F3\",\"gridwidth\":2,\"linecolor\":\"#EBF0F8\",\"showbackground\":true,\"ticks\":\"\",\"zerolinecolor\":\"#EBF0F8\"}},\"shapedefaults\":{\"line\":{\"color\":\"#2a3f5f\"}},\"ternary\":{\"aaxis\":{\"gridcolor\":\"#DFE8F3\",\"linecolor\":\"#A2B1C6\",\"ticks\":\"\"},\"baxis\":{\"gridcolor\":\"#DFE8F3\",\"linecolor\":\"#A2B1C6\",\"ticks\":\"\"},\"bgcolor\":\"white\",\"caxis\":{\"gridcolor\":\"#DFE8F3\",\"linecolor\":\"#A2B1C6\",\"ticks\":\"\"}},\"title\":{\"x\":0.05},\"xaxis\":{\"automargin\":true,\"gridcolor\":\"#EBF0F8\",\"linecolor\":\"#EBF0F8\",\"ticks\":\"\",\"title\":{\"standoff\":15},\"zerolinecolor\":\"#EBF0F8\",\"zerolinewidth\":2},\"yaxis\":{\"automargin\":true,\"gridcolor\":\"#EBF0F8\",\"linecolor\":\"#EBF0F8\",\"ticks\":\"\",\"title\":{\"standoff\":15},\"zerolinecolor\":\"#EBF0F8\",\"zerolinewidth\":2}}},\"xaxis\":{\"title\":{\"text\":\"Investment Period\"},\"showgrid\":true,\"gridcolor\":\"lightgrey\"},\"yaxis\":{\"title\":{\"text\":\"Future Value (INR)\"},\"showgrid\":true,\"gridcolor\":\"lightgrey\"},\"title\":{\"text\":\"Expected Value of Investments of ₹ 5000 Per Month (Mutual Funds)\"},\"hovermode\":\"x\"},                        {\"responsive\": true}                    ).then(function(){\n",
       "                            \n",
       "var gd = document.getElementById('8492296a-6251-4029-9689-2483f1b2a91f');\n",
       "var x = new MutationObserver(function (mutations, observer) {{\n",
       "        var display = window.getComputedStyle(gd).display;\n",
       "        if (!display || display === 'none') {{\n",
       "            console.log([gd, 'removed!']);\n",
       "            Plotly.purge(gd);\n",
       "            observer.disconnect();\n",
       "        }}\n",
       "}});\n",
       "\n",
       "// Listen for the removal of the full notebook cells\n",
       "var notebookContainer = gd.closest('#notebook-container');\n",
       "if (notebookContainer) {{\n",
       "    x.observe(notebookContainer, {childList: true});\n",
       "}}\n",
       "\n",
       "// Listen for the clearing of the current output cell\n",
       "var outputEl = gd.closest('.output');\n",
       "if (outputEl) {{\n",
       "    x.observe(outputEl, {childList: true});\n",
       "}}\n",
       "\n",
       "                        })                };                });            </script>        </div>"
      ]
     },
     "metadata": {},
     "output_type": "display_data"
    }
   ],
   "source": [
    "import numpy as np\n",
    "\n",
    "monthly_investment = 5000  # Monthly investment in INR\n",
    "years = [1, 3, 5, 10]  # Investment periods (in years)\n",
    "n = 12  # Number of times interest is compounded per year (monthly)\n",
    "\n",
    "avg_roi = expected_roi_mutual_fund.mean() / 100  # Convert to decimal\n",
    "\n",
    "def future_value(P, r, n, t):\n",
    "    return P * (((1 + r/n)**(n*t) - 1) / (r/n)) * (1 + r/n)\n",
    "\n",
    "future_values = [future_value(monthly_investment, avg_roi, n, t) for t in years]\n",
    "\n",
    "fig = go.Figure()\n",
    "\n",
    "fig.add_trace(go.Scatter(\n",
    "    x=[str(year) + \" year\" for year in years],\n",
    "    y=future_values,\n",
    "    mode='lines+markers',\n",
    "    line=dict(color='blue'),\n",
    "    marker=dict(size=8),\n",
    "    name='Future Value'\n",
    "))\n",
    "\n",
    "fig.update_layout(\n",
    "    title=\"Expected Value of Investments of ₹ 5000 Per Month (Mutual Funds)\",\n",
    "    xaxis_title=\"Investment Period\",\n",
    "    yaxis_title=\"Future Value (INR)\",\n",
    "    xaxis=dict(showgrid=True, gridcolor='lightgrey'),\n",
    "    yaxis=dict(showgrid=True, gridcolor='lightgrey'),\n",
    "    template=\"plotly_white\",\n",
    "    hovermode='x'\n",
    ")\n",
    "\n",
    "fig.show()"
   ]
  },
  {
   "cell_type": "markdown",
   "id": "e02d29dd",
   "metadata": {},
   "source": [
    "# After 1 year, the accumulated value is around ₹62,000, and by 5 years, it grows to over ₹300,000. \n",
    "\n",
    "The long-term benefit is evident, with the investment growing to nearly ₹860,000 over 10 years, which emphasises the \n",
    "value of consistent investing and compounding over time for long-term investors."
   ]
  },
  {
   "cell_type": "markdown",
   "id": "34387eb9",
   "metadata": {},
   "source": [
    "# Summary\n",
    "\n",
    "So, this is how a mutual fund plan is designed by investment companies for long-term investors. Mutual funds are investment plans that pool money from multiple investors to purchase a diversified portfolio of stocks, bonds, and other securities, managed by professional fund managers."
   ]
  },
  {
   "cell_type": "code",
   "execution_count": null,
   "id": "ac4cedf0",
   "metadata": {},
   "outputs": [],
   "source": []
  }
 ],
 "metadata": {
  "kernelspec": {
   "display_name": "Python 3 (ipykernel)",
   "language": "python",
   "name": "python3"
  },
  "language_info": {
   "codemirror_mode": {
    "name": "ipython",
    "version": 3
   },
   "file_extension": ".py",
   "mimetype": "text/x-python",
   "name": "python",
   "nbconvert_exporter": "python",
   "pygments_lexer": "ipython3",
   "version": "3.10.11"
  }
 },
 "nbformat": 4,
 "nbformat_minor": 5
}
